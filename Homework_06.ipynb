{
  "cells": [
    {
      "cell_type": "markdown",
      "metadata": {
        "id": "Pdak82OaPZKs"
      },
      "source": [
        "# Homework 6: N-Gram Language Models with the Brown Corpus\n",
        "\n",
        "## Due: Midnight on October 12th @ Midnight (with 2-hour grace period) and worth 85 points.\n",
        "\n",
        "## As announced, I'll not start to count late days until midnight on 10/13 (with same grace period).\n",
        "\n",
        "In this assignment you’ll practice **probabilistic language modeling (PLM)** by building N-Gram models that generate text. Along the way, you’ll develop the core pieces of a language model: estimating probabilities, calculating sentence likelihoods, and generating text with different strategies. The goal is to understand *how simple statistical models can produce coherent language*, and to explore refinements that make them more expressive.\n",
        "\n",
        "### Learning Objectives\n",
        "\n",
        "* Build and compare **unigram, bigram, and trigram** language models.\n",
        "* Calculate **word and sentence probabilities** (in log-space) and use them to measure **perplexity**.\n",
        "* Implement **probability-based generation** methods, including temperature-scaled sampling.\n",
        "* Explore **beam search** as a way to generate higher-quality sentences.\n",
        "\n",
        "### The four problems (high level)\n",
        "\n",
        "1. **Problem 1 — N-Gram probabilities:**\n",
        "   Build unigram, bigram, and trigram models. Compute next-word probabilities in log space to avoid numerical underflow.\n",
        "\n",
        "2. **Problem 2 — Sentence probability & perplexity:**\n",
        "   Define sentence probability, normalize for sentence length, and calculate perplexity as a measure of model quality.\n",
        "\n",
        "3. **Problem 3 — Controlled generation:**\n",
        "   Implement temperature-controlled sampling to vary randomness in generated sentences. Compare low vs. high temperatures.\n",
        "\n",
        "4. **Problem 4 — Beam search:**\n",
        "   Use perplexity to guide **beam search**, keeping track of the most likely candidate sentences at each step, and compare outputs to greedy generation.\n",
        "\n",
        "By the end, you’ll have a working N-Gram generator capable of producing reasonable and a solid understanding of how early probabilistic approaches to NLP laid the foundation for modern deep learning methods.\n",
        "\n"
      ]
    },
    {
      "cell_type": "markdown",
      "metadata": {
        "id": "MuqviLzzPZKu"
      },
      "source": [
        "### Recommended Workflow (Must Read!)\n",
        "\n",
        "One of the most important skills in machine learning is following a **disciplined workflow** when developing complex code. The basic idea is simple:\n",
        "\n",
        "1. **Start small:** Write and test your code using a tiny subset of your dataset.\n",
        "2. **Inspect your results:** Print out and examine intermediate outputs to verify that each step behaves as expected.\n",
        "3. **Iterate and tune:** Adjust hyperparameters and continue testing, gradually increasing the subset size as needed.\n",
        "4. **Scale up:** Once you are confident your code is bug-free and your hyperparameters are roughly correct, run it on the **full dataset** to obtain your final results.\n",
        "\n",
        "If you don’t have sufficient computing resources for a full run, use **as large a subset as practical** — provided you’ve begun early enough to allow for multiple iterations.\n",
        "\n",
        "\n",
        "To help you follow this workflow in this homework, I’ve included a variable `num_sentences` that controls how many sentences are used from the shuffled Brown Corpus.\n",
        "\n",
        "I recommend the following progression:\n",
        "\n",
        "* **Step 1:** Begin with `num_sentences = 10` to debug and print out intermediate data structures (such as dictionaries) to confirm that your code works as expected.\n",
        "* **Step 2:** Increase to `num_sentences = 100` to verify correctness and complete most of the homework efficiently.\n",
        "* **Step 3:** Finally, if possible, run with the full dataset (`num_sentences = 57_340`), or as large a subset as your resources allow, to answer the graded questions.\n",
        "\n",
        "\n",
        "There are 9 problems in this homework, each worth 9 points each, and you get 4 points free if you otherwise complete the homework."
      ]
    },
    {
      "cell_type": "markdown",
      "metadata": {
        "id": "fSOskydpPZKu"
      },
      "source": [
        "#### Useful Imports (add more as needed)"
      ]
    },
    {
      "cell_type": "code",
      "execution_count": 1,
      "metadata": {
        "id": "PibFXHd7PZKv"
      },
      "outputs": [],
      "source": [
        "import math\n",
        "import re\n",
        "import string\n",
        "import random\n",
        "import spacy\n",
        "import numpy as np\n",
        "import pandas as pd\n",
        "from tqdm import tqdm\n",
        "from matplotlib import pyplot as plt\n",
        "from collections import Counter\n",
        "\n",
        "random.seed(42)"
      ]
    },
    {
      "cell_type": "code",
      "execution_count": 2,
      "metadata": {
        "id": "iR69t4lOPZKv"
      },
      "outputs": [],
      "source": [
        "'''\n",
        "Reconstruct a human-readable sentence from tokens.\n",
        "- Capitalize the first token (after removing <s>).\n",
        "- Attach any token in string.punctuation with no preceding space.\n",
        "- Attach tokens starting with an apostrophe (e.g., \"'s\", \"'ll\") with no space.\n",
        "- Capitalize standalone 'i' and 'god' wherever they appear.\n",
        "- If the last token is '.', '?', or '!', attach it without a space.\n",
        "- Ignore boundary markers <s> and </s> if present.\n",
        "Returns the sentence string and also prints it depending on flag parameter.\n",
        "'''\n",
        "\n",
        "def print_sentence(tokens, do_print=True):\n",
        "\n",
        "    if not tokens:\n",
        "        print(\"\")\n",
        "        return \"\"\n",
        "\n",
        "    # Drop boundary markers if present\n",
        "    start = 1 if tokens and tokens[0] == \"<s>\" else 0\n",
        "    end = -1 if tokens and tokens[-1] == \"</s>\" else len(tokens)\n",
        "    core = tokens[start:end]\n",
        "\n",
        "    if not core:\n",
        "        print(\"\")\n",
        "        return \"\"\n",
        "\n",
        "    # Capitalize first token\n",
        "    out = core[0].capitalize()\n",
        "\n",
        "    # Process remaining tokens with spacing rules\n",
        "    for i, t in enumerate(core[1:], start=1):\n",
        "        is_last = (i == len(core) - 1)\n",
        "\n",
        "        # Last-token punctuation rule\n",
        "        if is_last and t in {\".\", \"?\", \"!\"}:\n",
        "            out += t\n",
        "            continue\n",
        "\n",
        "        # General punctuation attaches with no space (e.g., ',', ':', ';', ')', etc.)\n",
        "        if t in string.punctuation:\n",
        "            out += t\n",
        "            continue\n",
        "\n",
        "        # Apostrophe-start tokens like \"'s\", \"'d\", \"'ll\"\n",
        "        if t.startswith(\"'\"):\n",
        "            out += t\n",
        "            continue\n",
        "\n",
        "        # Capitalize special standalone words\n",
        "        if t.lower() in {\"i\", \"god\"}:\n",
        "            out += \" \" + t.capitalize()\n",
        "            continue\n",
        "\n",
        "        # Default: add a space before normal words\n",
        "        out += \" \" + t\n",
        "\n",
        "    if do_print:\n",
        "        print(out)\n",
        "    return out\n"
      ]
    },
    {
      "cell_type": "markdown",
      "metadata": {
        "id": "5FfTo9BZPZKw"
      },
      "source": [
        "### Read in the list of all sentences in the Brown Corpus and process using SPaCy."
      ]
    },
    {
      "cell_type": "code",
      "execution_count": 3,
      "metadata": {
        "id": "Bv6AsI9IPZKw"
      },
      "outputs": [],
      "source": [
        "# Must do this the first time to get the Natural Language ToolKit\n",
        "\n",
        "# !pip install nltk"
      ]
    },
    {
      "cell_type": "code",
      "execution_count": 5,
      "metadata": {
        "id": "R-J0vTrsPZKy",
        "outputId": "adc8ed55-5307-4f26-b3ee-4aee91681752",
        "colab": {
          "base_uri": "https://localhost:8080/"
        }
      },
      "outputs": [
        {
          "output_type": "stream",
          "name": "stderr",
          "text": [
            "[nltk_data] Downloading package brown to /root/nltk_data...\n",
            "[nltk_data]   Package brown is already up-to-date!\n",
            "/usr/local/lib/python3.12/dist-packages/spacy/pipeline/lemmatizer.py:188: UserWarning: [W108] The rule-based lemmatizer did not find POS annotation for one or more tokens. Check that your pipeline includes components that assign token.pos, typically 'tagger'+'attribute_ruler' or 'morphologizer'.\n",
            "  warnings.warn(Warnings.W108)\n"
          ]
        }
      ],
      "source": [
        "import nltk\n",
        "from nltk.corpus import brown\n",
        "import spacy\n",
        "\n",
        "nltk.download('brown')\n",
        "\n",
        "# Get all Brown corpus sentences as raw text\n",
        "# Brown is organized into categories, we flatten it into one list of sentences and shuffle\n",
        "# so we can create a shorter list for testing\n",
        "\n",
        "brown_texts = [\" \".join(sent) for sent in brown.sents()]\n",
        "\n",
        "random.shuffle(brown_texts)\n",
        "\n",
        "# Brown has 57_340 sentences, set `num_sentences` to 1000 or smaller for testing\n",
        "\n",
        "# num_sentences = 57_340\n",
        "num_sentences = 10                           # <<<<<=====    Here is where you can change the size of the dataset\n",
        "\n",
        "brown_texts = brown_texts[:num_sentences]\n",
        "\n",
        "# Load spaCy English pipeline\n",
        "nlp = spacy.load(\"en_core_web_sm\")\n",
        "\n",
        "# Process with spaCy: tokenize + sentencize\n",
        "docs = list(nlp.pipe(brown_texts, disable=[\"ner\", \"tagger\", \"parser\"]))\n",
        "\n",
        "# Each doc is one sentence; extract tokens and add beginning and ending tokens <s> ... </s>\n",
        "tokenized_sentences = [ ['<s>'] + [token.text.lower() for token in doc if not token.is_space] + ['</s>'] for doc in docs ]"
      ]
    },
    {
      "cell_type": "markdown",
      "metadata": {
        "id": "JX20-xgLPZKz"
      },
      "source": [
        "#### If you have trouble downloading this...\n",
        "\n",
        "\n",
        "I have uploaded a file `brown_sentences.txt` to a Google Drive folder which anyone with the link can read, just\n",
        "uncomment the code in the next cell and run it:"
      ]
    },
    {
      "cell_type": "code",
      "execution_count": 3,
      "metadata": {
        "id": "ubMfRADQPZKz"
      },
      "outputs": [],
      "source": [
        "# import re, requests, random, spacy\n",
        "\n",
        "# # Paste the shared Drive link (no need to change anything else)\n",
        "# link = \"https://drive.google.com/file/d/1f_BkNDF0ny11Tn4D4jsOoXhgPSUCHKlf/view?usp=drive_link\"\n",
        "\n",
        "# # --- Convert to direct download URL ---\n",
        "# def get_direct_download_url(link):\n",
        "#     match = re.search(r\"/d/([a-zA-Z0-9_-]+)\", link) or re.search(r\"id=([a-zA-Z0-9_-]+)\", link)\n",
        "#     if not match:\n",
        "#         raise ValueError(\"Could not extract file ID from the link.\")\n",
        "#     file_id = match.group(1)\n",
        "#     return f\"https://drive.google.com/uc?export=download&id={file_id}\"\n",
        "\n",
        "# url = get_direct_download_url(link)\n",
        "\n",
        "# # --- Download and prepare the text ---\n",
        "# response = requests.get(url)\n",
        "# lines = response.text.strip().split(\"\\n\")\n",
        "\n",
        "# random.shuffle(lines)\n",
        "\n",
        "\n",
        "# # Etc as before"
      ]
    },
    {
      "cell_type": "code",
      "execution_count": 6,
      "metadata": {
        "id": "OO7Y4wpyPZK1",
        "outputId": "d230d882-50b5-4654-d698-d0bf9339252f",
        "colab": {
          "base_uri": "https://localhost:8080/"
        }
      },
      "outputs": [
        {
          "output_type": "stream",
          "name": "stdout",
          "text": [
            "Number of sentences: 10\n",
            "First sentence:      The hearst men say that if hearst is nominated, he and his immediate friends will contribute to the democratic national committee the sum of$ 1,500,000.\n",
            "Tokenized sentence: ['<s>', 'the', 'hearst', 'men', 'say', 'that', 'if', 'hearst', 'is', 'nominated', ',', 'he', 'and', 'his', 'immediate', 'friends', 'will', 'contribute', 'to', 'the', 'democratic', 'national', 'committee', 'the', 'sum', 'of', '$', '1,500,000', '.', '</s>']\n"
          ]
        }
      ],
      "source": [
        "print(\"Number of sentences:\", len(tokenized_sentences))\n",
        "print(\"First sentence:      \",end='')\n",
        "print_sentence(tokenized_sentences[0])\n",
        "print(\"Tokenized sentence: \",end='')\n",
        "print(tokenized_sentences[0])"
      ]
    },
    {
      "cell_type": "markdown",
      "metadata": {
        "id": "pAaDFd4tPZK4"
      },
      "source": [
        "### A Little EDA...."
      ]
    },
    {
      "cell_type": "code",
      "execution_count": 7,
      "metadata": {
        "id": "LkY7EK61PZK5",
        "outputId": "1eb449d7-7401-4e42-ac10-b25361612421",
        "colab": {
          "base_uri": "https://localhost:8080/"
        }
      },
      "outputs": [
        {
          "output_type": "stream",
          "name": "stdout",
          "text": [
            "Total number of characters in the text: 935\n",
            "Total number of tokens:    175\n",
            "Number of unique tokens:   122\n",
            "Total number of sentences: 10\n",
            "Total number of words:     152\n",
            "Number of unique words:    114\n",
            "\n",
            "Top 10 words:\n",
            "the            : 13\n",
            "of             : 7\n",
            "to             : 4\n",
            "and            : 3\n",
            "his            : 3\n",
            "in             : 3\n",
            "hearst         : 2\n",
            "men            : 2\n",
            "that           : 2\n",
            "is             : 2\n",
            "\n",
            "Bottom 10 words:\n",
            "earth          : 1\n",
            "discussions    : 1\n",
            "about          : 1\n",
            "feelings       : 1\n",
            "both           : 1\n",
            "spouses        : 1\n",
            "during         : 1\n",
            "various        : 1\n",
            "stages         : 1\n",
            "pregnancy      : 1\n"
          ]
        }
      ],
      "source": [
        "# Flatten tokens (exclude spaces)\n",
        "all_tokens = [tok.text.lower() for sent in docs for tok in sent if not tok.is_space]\n",
        "\n",
        "# Define \"word\": alphabetic, or alphabetic after removing internal apostrophes\n",
        "def is_word(tok):\n",
        "    s = tok.text\n",
        "    return s.isalpha() or s.replace(\"'\", \"\").isalpha()\n",
        "\n",
        "# Extract words using the definition above\n",
        "words = [\n",
        "    tok.text.lower()\n",
        "    for sent in docs\n",
        "    for tok in sent\n",
        "    if not tok.is_space and is_word(tok)\n",
        "]\n",
        "\n",
        "# Counts\n",
        "num_chars = sum(len(s) for s in brown_texts)   # or len(text) if you started from one big text\n",
        "num_tokens = len(all_tokens)\n",
        "num_unique_tokens = len(set(all_tokens))\n",
        "num_sentences = len(docs)\n",
        "num_words = len(words)\n",
        "num_unique_words = len(set(words))\n",
        "\n",
        "print(f\"Total number of characters in the text: {num_chars:,}\")\n",
        "print(f\"Total number of tokens:    {num_tokens:,}\")\n",
        "print(f\"Number of unique tokens:   {num_unique_tokens:,}\")\n",
        "print(f\"Total number of sentences: {num_sentences:,}\")\n",
        "print(f\"Total number of words:     {num_words:,}\")\n",
        "print(f\"Number of unique words:    {num_unique_words:,}\")\n",
        "\n",
        "# Frequencies\n",
        "word_counts = Counter(words)\n",
        "most_common_words = word_counts.most_common()\n",
        "\n",
        "# Top 10\n",
        "print(\"\\nTop 10 words:\")\n",
        "for token, freq in most_common_words[:10]:\n",
        "    print(f\"{token:<15}: {freq:,}\")\n",
        "\n",
        "# Bottom 10\n",
        "print(\"\\nBottom 10 words:\")\n",
        "for token, freq in most_common_words[-10:]:\n",
        "    print(f\"{token:<15}: {freq:,}\")"
      ]
    },
    {
      "cell_type": "markdown",
      "metadata": {
        "id": "u4ZcmjJdPZK5"
      },
      "source": [
        "### Digression: Zipf's Law\n",
        "\n",
        "Zipf's Law is an empirical regularity of natural language:  \n",
        "if you rank words by their frequency in a corpus, the frequency \\( f(r) \\) of the word at rank \\( r \\) is approximately inversely proportional to its rank:\n",
        "\n",
        "$$\n",
        "f(r) \\propto \\frac{1}{r^k}\n",
        "$$\n",
        "\n",
        "where $ r = 1, 2, 3, \\dots $ is the rank of a word (1 = most frequent), and $ k \\approx 1 $.  \n",
        "\n",
        "- The most common words (e.g., *the*, *of*, *and*) occur very often.  \n",
        "- A handful of mid-ranked words occur moderately often.  \n",
        "- The vast majority of words occur rarely.  \n",
        "\n",
        "On a **log–log plot** of frequency vs. rank, this relationship appears as a straight line with slope \\(-k\\).  \n",
        "For natural language, empirical studies show that $k \\approx 1$, which is why we plot below a reference line with slope $-1$ to compare against real corpus data.\n",
        "\n",
        "\n",
        "**Why this matters:** Because most words are rare, language models must use techniques like **smoothing, subword modeling, or embeddings** to handle sparsity and represent meaning effectively.  \n"
      ]
    },
    {
      "cell_type": "code",
      "execution_count": 8,
      "metadata": {
        "id": "QNkCo-aGPZK6",
        "outputId": "743fd953-1221-4276-c43d-a94fb361a5dd",
        "colab": {
          "base_uri": "https://localhost:8080/",
          "height": 931
        }
      },
      "outputs": [
        {
          "output_type": "display_data",
          "data": {
            "text/plain": [
              "<Figure size 800x500 with 1 Axes>"
            ],
            "image/png": "[encoded data removed]"
          },
          "metadata": {}
        },
        {
          "output_type": "display_data",
          "data": {
            "text/plain": [
              "<Figure size 800x400 with 1 Axes>"
            ],
            "image/png": "[encoded data removed]"
          },
          "metadata": {}
        },
        {
          "output_type": "stream",
          "name": "stdout",
          "text": [
            "Average sentence length: 17.50 tokens\n",
            "Max sentence length:     30 tokens\n"
          ]
        }
      ],
      "source": [
        "# Frequencies sorted by rank\n",
        "freqs = np.array([freq for token, freq in word_counts.most_common()])\n",
        "ranks = np.arange(1, len(freqs) + 1)\n",
        "\n",
        "plt.figure(figsize=(8, 5))\n",
        "plt.plot(ranks, freqs, label=\"Corpus data\")\n",
        "\n",
        "# Reference line: slope = -1 (Zipf’s law)\n",
        "# Match scale by anchoring at the first frequency\n",
        "ref_line = freqs[0] / ranks\n",
        "plt.plot(ranks, ref_line, \"--\", label=\"Reference slope = -1\")\n",
        "\n",
        "plt.xscale(\"log\")\n",
        "plt.yscale(\"log\")\n",
        "plt.title(\"Token Frequencies vs. Rank (Zipf’s Law)\")\n",
        "plt.xlabel(\"Rank of token\")\n",
        "plt.ylabel(\"Frequency of token\")\n",
        "plt.grid(True, which=\"both\", ls=\"--\", alpha=0.6)\n",
        "plt.legend()\n",
        "plt.tight_layout()\n",
        "plt.show()\n",
        "\n",
        "# Compute sentence lengths from spaCy docs\n",
        "sentence_lengths = [len([tok for tok in sent if not tok.is_space]) for sent in docs]\n",
        "\n",
        "# Plot histogram\n",
        "plt.figure(figsize=(8, 4))\n",
        "plt.hist(\n",
        "    sentence_lengths,\n",
        "    bins=range(1, max(sentence_lengths) + 2),\n",
        "    color=\"skyblue\",\n",
        "    edgecolor=\"black\"\n",
        ")\n",
        "plt.title(\"Histogram of Sentence Lengths\")\n",
        "plt.xlabel(\"Sentence length (in tokens)\")\n",
        "plt.ylabel(\"Number of sentences\")\n",
        "plt.tight_layout()\n",
        "plt.show()\n",
        "\n",
        "print(f\"Average sentence length: {sum(sentence_lengths)/len(sentence_lengths):.2f} tokens\")\n",
        "print(f\"Max sentence length:     {max(sentence_lengths)} tokens\")"
      ]
    },
    {
      "cell_type": "markdown",
      "metadata": {
        "id": "0cE16zxVPZK6"
      },
      "source": [
        "## Problem One — Build the PLM (bigrams & trigrams)\n",
        "\n",
        "For this problem, you must adapt (mostly cut-and-paste) the code from this week’s Coding Notebook to the new dataset. You are using a trigram model as well as bigrams but your professor has written code that should mostly work for any N.\n",
        "\n",
        "We provide a pre-processed dataset above, with sentences already tokenized and enclosed in the boundary tokens `<s>` and `</s>`.\n",
        "\n",
        "**Set `num_sentences=10` to start!**\n",
        "\n",
        "**ToDo:**\n",
        "\n",
        "**A.** Build N-grams for N = 2, 3\n",
        "\n",
        "- Compute all bigrams and trigrams over the tokenized sentences (boundary tokens included).\n",
        "\n",
        "**B.** Create a dictionary mapping left-contexts to next-word lists\n",
        "\n",
        "- For each N, map each context (length N−1) to a list of next tokens (allow duplicates so frequency = count).\n",
        "\n",
        "**C.** Convert to (log) probability distributions\n",
        "\n",
        "- Turn each context’s next-word list into a distribution of log-probabilities (see **Appendix Two**).\n",
        "\n",
        "**D.** Create the Probability Language Model (PLM)\n",
        "\n",
        "- Create a dictionary `get_next_word` with:\n",
        "\n",
        "    - Key: left context (tuple of 1 token for bigrams; 2 tokens for trigrams).\n",
        "    \n",
        "    - Values: nested dictionary mapping next tokens to log-probabilities `{next_token: log_prob, ...}`.\n",
        "\n",
        "- Create a **single dictionary** (since bigrams and trigrams have a left context of different lengths, and they won't get confused in the dictionary).\n",
        "\n",
        "\n",
        "**E.** Set the variable `num_sentences = 10` and do a sanity check by displaying the distribution for the bigram contexts e.g., `('<s>',)` and `('the',)` and a trigram context `('<s>','the')`. If for some reason these are not present, increase the number of sentences slightly.  \n",
        "\n",
        "**F.**  Generate 5 next words for each of the 3 examples in the previous part.\n",
        "\n",
        "**Then answer the graded questions.**"
      ]
    },
    {
      "cell_type": "code",
      "execution_count": 24,
      "metadata": {
        "id": "ePPc06k2PZK6"
      },
      "outputs": [],
      "source": [
        "# Your code here (add as many cells as you need)\n",
        "def get_ngrams(sent, N):\n",
        "    return [ tuple(sent[k:k+N]) for k in range(len(sent) - N + 1) ]\n",
        "\n",
        "bigrams = []\n",
        "for sent in tokenized_sentences:\n",
        "  bigrams += get_ngrams(sent, 2)\n",
        "\n",
        "trigrams = []\n",
        "for sent in tokenized_sentences:\n",
        "  trigrams += get_ngrams(sent, 3)"
      ]
    },
    {
      "cell_type": "code",
      "source": [
        "# Creating next work dictionary\n",
        "\n",
        "def get_next_word_dict(ngrams):\n",
        "  dict = {}\n",
        "  for ng in ngrams:\n",
        "    lcontext = ng[:-1]\n",
        "    next_word = ng[-1]\n",
        "    dict[lcontext] = dict.get(lcontext, []) + [next_word]\n",
        "  return dict\n",
        "\n",
        "bigrams_dict = get_next_word_dict(bigrams)\n",
        "trigrams_dict = get_next_word_dict(trigrams)"
      ],
      "metadata": {
        "id": "cE5lmoSDYsP_"
      },
      "execution_count": 14,
      "outputs": []
    },
    {
      "cell_type": "code",
      "source": [
        "# Converting to log probability distributions\n",
        "\n",
        "def tokens2probs(ws):\n",
        "  k = len(ws)\n",
        "  return {w: math.log(f/k) for (w, f) in Counter(ws).items()}\n",
        "\n",
        "def get_PLM(D):\n",
        "  return {lcontext : tokens2probs(next_words) for (lcontext, next_words) in D.items()}\n",
        "\n",
        "bigram_plm = get_PLM(bigrams_dict)\n",
        "trigram_plm = get_PLM(trigrams_dict)\n",
        "\n",
        "get_next_word = bigram_plm | trigram_plm"
      ],
      "metadata": {
        "id": "tbfpaKhrZLQ8"
      },
      "execution_count": 33,
      "outputs": []
    },
    {
      "cell_type": "code",
      "source": [
        "print(get_next_word[('<s>', )])\n",
        "print(get_next_word[('the', )])\n",
        "print(get_next_word['<s>', 'the'])"
      ],
      "metadata": {
        "id": "OykxtbMXkkJ3",
        "outputId": "d8d58c76-89a4-4216-d7cd-bb5afc8b92d3",
        "colab": {
          "base_uri": "https://localhost:8080/"
        }
      },
      "execution_count": 34,
      "outputs": [
        {
          "output_type": "stream",
          "name": "stdout",
          "text": [
            "{'the': -1.6094379124341003, 'what': -2.3025850929940455, 'god': -2.3025850929940455, 'replied': -2.3025850929940455, 'another': -2.3025850929940455, 'anti': -2.3025850929940455, 'his': -2.3025850929940455, 'said': -2.3025850929940455, 'never': -2.3025850929940455}\n",
            "{'hearst': -2.5649493574615367, 'democratic': -2.5649493574615367, 'sum': -2.5649493574615367, 'cow': -2.5649493574615367, 'senator': -2.5649493574615367, 'founding': -2.5649493574615367, 'tendency': -2.5649493574615367, 'seventeen': -2.5649493574615367, 'grips': -2.5649493574615367, 'plow': -2.5649493574615367, 'opportunity': -2.5649493574615367, 'genuine': -2.5649493574615367, 'feelings': -2.5649493574615367}\n",
            "{'hearst': -0.6931471805599453, 'seventeen': -0.6931471805599453}\n"
          ]
        }
      ]
    },
    {
      "cell_type": "code",
      "source": [
        "get_next_word[('<s>',)].keys()\n",
        "np.array(list(get_next_word[('<s>', )].values()))"
      ],
      "metadata": {
        "id": "f2U1CJALnIDY",
        "outputId": "00aa996b-f1be-4e9b-b917-538edae63ce6",
        "colab": {
          "base_uri": "https://localhost:8080/"
        }
      },
      "execution_count": 58,
      "outputs": [
        {
          "output_type": "execute_result",
          "data": {
            "text/plain": [
              "array([-1.60943791, -2.30258509, -2.30258509, -2.30258509, -2.30258509,\n",
              "       -2.30258509, -2.30258509, -2.30258509, -2.30258509])"
            ]
          },
          "metadata": {},
          "execution_count": 58
        }
      ]
    },
    {
      "cell_type": "code",
      "source": [
        "# Generating 5 next words\n",
        "\n",
        "def sample_next_word(lcontext, plm):\n",
        "  next_word_dist = plm[lcontext]\n",
        "  return random.choices(list(next_word_dist.keys()), weights = np.exp(np.array(list(next_word_dist.values()))))[0]\n",
        "\n",
        "c = ('<s>', )\n",
        "print(f\"{c}: {[sample_next_word(c, get_next_word) for _ in range(5)]}\")\n",
        "c = ('the', )\n",
        "print(f\"{c}: {[sample_next_word(c, get_next_word) for _ in range(5)]}\")\n",
        "c = ('<s>', 'the')\n",
        "print(f\"{c}: {[sample_next_word(c, get_next_word) for _ in range(5)]}\")"
      ],
      "metadata": {
        "id": "KUqa_iXYkzoT",
        "outputId": "135a0446-53bb-45f0-907b-084b53847c4d",
        "colab": {
          "base_uri": "https://localhost:8080/"
        }
      },
      "execution_count": 67,
      "outputs": [
        {
          "output_type": "stream",
          "name": "stdout",
          "text": [
            "('<s>',): ['said', 'anti', 'said', 'god', 'said']\n",
            "('the',): ['cow', 'feelings', 'senator', 'tendency', 'opportunity']\n",
            "('<s>', 'the'): ['hearst', 'hearst', 'hearst', 'hearst', 'seventeen']\n"
          ]
        }
      ]
    },
    {
      "cell_type": "markdown",
      "metadata": {
        "id": "67VslTiaPZK6"
      },
      "source": [
        "### Graded Question:\n",
        "\n",
        "In the next cell, set `a1` to the list of 5 next words for the trigram context `('<s>','the')` (unlikely, but you may have to adjust `num_sentences` as indicated)."
      ]
    },
    {
      "cell_type": "code",
      "execution_count": 69,
      "metadata": {
        "id": "hvlDlTdiPZK6"
      },
      "outputs": [],
      "source": [
        "# Your answer here\n",
        "\n",
        "a1 = [sample_next_word(('<s>', 'the'), get_next_word) for _ in range(5)]"
      ]
    },
    {
      "cell_type": "code",
      "execution_count": 70,
      "metadata": {
        "id": "9ZagUqMBPZK7",
        "outputId": "a30c5968-7872-4c43-c760-8c475e14eafb",
        "colab": {
          "base_uri": "https://localhost:8080/"
        }
      },
      "outputs": [
        {
          "output_type": "stream",
          "name": "stdout",
          "text": [
            "a1 = ['hearst', 'hearst', 'seventeen', 'seventeen', 'seventeen']\n"
          ]
        }
      ],
      "source": [
        "# Graded Answer\n",
        "# DO NOT change this cell in any way and do not make any other assignments to variable a1 in this problem\n",
        "\n",
        "print(f'a1 = {a1}')\n"
      ]
    },
    {
      "cell_type": "markdown",
      "metadata": {
        "id": "VleBXvvZPZK7"
      },
      "source": [
        "## Problem Two: Generating Sentences with Backoff and Temperature\n",
        "\n",
        "\n",
        "The algorithm for generating sentences from a N-Gram PLM is simple: look at the last $N-1$ tokens of the sentence and use the probability distribution of next words to select the continuation word; stop when you generate `'</s>'`.\n",
        "\n",
        "\n",
        "For **bigrams**, this works well: Every token in the text is followed by another token (because `</s>` ends every sentence).\n",
        "\n",
        "However there are two problems when using N-grams for $N>2$:\n",
        "\n",
        "**1. Cold Start (not enough left-context):**  You don't have enough left context in the beginning, so you start with what you have until you have enough left context.   For example, with trigrams:\n",
        "\n",
        "                                          Find next word using:\n",
        "        Step 1:    <s> ?                      bigrams\n",
        "         context:  ---\n",
        "        Step 2:    <s> One ?                  trigrams\n",
        "         context:  ------\n",
        "        Step 3:    <s> One ish ?             continue on with trigrams\n",
        "         context:      ---------\n",
        "\n",
        "\n",
        "**2. Sparsity (not enough N-grams):** For bigrams we always have a continuation for the left context (1 token). However, it is possible for $N>2$ that there is no N-gram which gives you a choice of next words, for example, suppose your sentence so far is\n",
        "\n",
        "            \"One fish dish ...\"\n",
        "\n",
        "and there is no trigram in the form `(\"fish\", \"dish\", ...)`. In this case we use the **backoff** strategy: if there is no trigram left-context `(\"fish\", \"dish\")`,\n",
        "cut out one token and use the (safe) bigram strategy with left context `(\"dish\",)`.  In general, for any $N$,\n",
        "if $N$ does not provide a next word, try $N-1$, $N-2$ etc. until one is found (in the worse case,\n",
        "for $N=1$, you'll just select a likely word without any left-context, but note that with boundary tokens, you'll\n",
        "always have a bigram).\n",
        "\n",
        "\n",
        "**ToDo:**\n",
        "\n",
        "- Adapt the code for generating sentences from the Coding Video to perform the backoff strategy just described, and using your code from Problem One.\n",
        "- Make sure you convert the log probabilities **back into non-log probabilities before you use them as weights in in `np.choice(..., p=weights)`**.\n",
        "- Perform 3 experiments with temperature set at 0.2, 1.0, and 5.0 **with the full dataset if possible**:\n",
        "    - Generate 10 sentences for each temperature, print them out using `print_sentence` and observe whatever differences you can.\n",
        "- Answer the graded questions."
      ]
    },
    {
      "cell_type": "code",
      "execution_count": null,
      "metadata": {
        "id": "XRtxwgVDPZK8"
      },
      "outputs": [],
      "source": [
        "# Your code here (add as many cells as you need)\n"
      ]
    },
    {
      "cell_type": "markdown",
      "metadata": {
        "id": "z50IundTPZK8"
      },
      "source": [
        "### Graded Questions:\n",
        "\n",
        "#### Part 2A: In the next cell, set `a2a` to the *most realistic sentence* generated (your call!). Use `print_sentence(..., do_print=False)`."
      ]
    },
    {
      "cell_type": "code",
      "execution_count": null,
      "metadata": {
        "id": "cIySRF2iPZK8"
      },
      "outputs": [],
      "source": [
        "# Your answer here\n",
        "\n",
        "a2a = ''"
      ]
    },
    {
      "cell_type": "code",
      "execution_count": null,
      "metadata": {
        "id": "ZmtP84-oPZK8",
        "outputId": "46a5cea8-e690-4588-c86b-04235da8bfaa"
      },
      "outputs": [
        {
          "name": "stdout",
          "output_type": "stream",
          "text": [
            "a2a = \n"
          ]
        }
      ],
      "source": [
        "# Graded Answer\n",
        "# DO NOT change this cell in any way and do not make any other assignments to variable a2a in this problem\n",
        "\n",
        "print(f'a2a = {a2a}')\n"
      ]
    },
    {
      "cell_type": "markdown",
      "metadata": {
        "id": "MU2yejX0PZK9"
      },
      "source": [
        "#### Part 2B:  Describe in a few sentences what you observed with the different temperature settings (and try more if you wish!). Which seemed to produce the most realistic sentences?\n",
        "\n",
        "Your answer here:\n",
        "\n"
      ]
    },
    {
      "cell_type": "markdown",
      "metadata": {
        "id": "-6DVp_0WPZK9"
      },
      "source": [
        "## Problem Three:  Measuring the Quality of Sentences:  Average Log Probability and Perplexity\n",
        "\n",
        "The probabilities involved when we start to calculate the probability of longer token sequences are extremely small, and underflow is common\n",
        "for a large corpus. Therefore we calculate all probabilities in **log space** (see **Appendix Two** for an explanation).\n",
        "\n",
        "Basically, the quality metric for generated sentences is likelihood: If a sentence is more probable, it is better.\n",
        "However, this metric is biased towards short sentences, since we multiply the probabilities of each word,\n",
        "and long sentences end up being very unlikely. But natural language does not behave this way!\n",
        "\n",
        "Therefore, we will remove the length from the calculation using the following measures:\n",
        "\n",
        "**Average of Log Probabilities (ALP)** is a length-agnostic measure of sentence probability. For trigrams:\n",
        "\n",
        "Let the tokenized sentence be $[t_1,\\ldots,t_n]$ with $t_1$ = `<s>` and $t_n$ = `</s>`.\n",
        "\n",
        "\n",
        "$$\n",
        "\\text{ALP}([t_1, t_2, \\dots, t_n])\n",
        "\\ =\\ \\frac{\\log P(t_2 \\mid t_1) + \\log P(t_3 \\mid t_1, t_2) + \\dots + \\log P(t_n \\mid t_{n-2}, t_{n-1})}{n-1}\n",
        "$$\n",
        "\n",
        "**Notes:**\n",
        "- We don't include the first token because it is always present and hence not predicted; think of\n",
        "it as a prompt which gets the sentence going!\n",
        "- To account for backoff, simply use the log probability of the bigram in those cases instead of the trigram.\n",
        "- ALP is in $(-\\infty \\ldots 0.0]$ and larger is better.  It grows more negative as the model performs worse.\n",
        "\n",
        "\n",
        "**Perplexity** is the most common metric in NLP: it rescales the ALP into a more intuitive, positive scale:\n",
        "\n",
        "> Perplexity = np.exp( - ALP ).     \n",
        "\n",
        "Perplexities are $\\ge 1.0$ and smaller is better.   A larger perplexity means the model is “more perplexed,” i.e., on average it is choosing among more equally likely alternatives.\n",
        "\n",
        "Because the exponential is monotonic, minimizing perplexity is exactly the same as maximizing average log probability—so either metric may be used for ranking models, but perplexity is more commonly used by the NLP community.\n",
        "\n",
        "### Before You Start\n",
        "\n",
        "You can compute ALP during generation by carrying **state** along with the partial sentence.\n",
        "Instead of storing:\n",
        "\n",
        "> tokens_so_far = [ `<s>`, $t_2$, $t_3$, … ]\n",
        "\n",
        "store a **pair**:\n",
        "\n",
        "> ( tokens_so_far, sum_log_probs)\n",
        "\n",
        "where\n",
        "\n",
        "* **sum_log_probs** = $( \\log P(t_2\\mid t_1) + \\log P(t_3\\mid t_1,t_2) + \\cdots )$\n",
        "\n",
        "In the case that backoff was used to generate some $t_k$, you just use $\\log P(t_{k}\\mid t_{k-1})$\n",
        "\n",
        "Then your loop is:\n",
        "\n",
        "1. Start with tokens = `['<s>']` and `sum_log_probs = 0.0`.\n",
        "2. Get the left context (trigram preferred; back off to bigram if needed).\n",
        "3. **Sample** the next token using temperature, but **score** with the model’s **true** log-prob for that token (un-tempered): update `sum_log_probs += log P(next|context)`.\n",
        "4. Append the token; if it is `</s>`, stop, else repeat froms step 2.\n",
        "5. Calculate the perplexity of the completed sentence:\n",
        "- Divide the running sum of log probabilities by `len(tokens)-1` to get the final ALP.\n",
        "- Calculate `PP = np.exp(-ALP)` and return the pair `( completed-list-of-tokens, PP)` as the generated sentence.\n",
        "\n",
        "\n",
        "\n",
        "### To Do\n",
        "\n",
        "* Modify your `get_next_word` and sentence generator method to maintain `(tokens, sum_log)` as above and return `(tokens, Perplexity)`.\n",
        "- Perform 3 experiments with temperature set at 0.2, 1.0, and 5.0 **with the full dataset if possible**:\n",
        "    - Generate 10 sentences for each temperature, print them out using `print_sentence` and observe whatever differences you can, comparing them with the perplexity.\n",
        "* Answer the graded questions.\n"
      ]
    },
    {
      "cell_type": "code",
      "execution_count": null,
      "metadata": {
        "id": "Q31Bc_dgPZK-"
      },
      "outputs": [],
      "source": [
        "# Your code here: add as many cells as you wish\n",
        "\n"
      ]
    },
    {
      "cell_type": "markdown",
      "metadata": {
        "id": "DLG9Rk49PZK_"
      },
      "source": [
        "### Graded Questions:\n",
        "\n",
        "#### Part 3A: In the next cell, set `a3a` to the sentence with the smallest perplexity. Use `print_sentence(..., do_print=False)`."
      ]
    },
    {
      "cell_type": "code",
      "execution_count": null,
      "metadata": {
        "id": "qEPfwvT0PZK_"
      },
      "outputs": [],
      "source": [
        "# Your answer here\n",
        "\n",
        "a3a = ''"
      ]
    },
    {
      "cell_type": "code",
      "execution_count": null,
      "metadata": {
        "id": "qpWVKRfsPZK_",
        "outputId": "f4b72504-e07e-4521-df9c-3e1c8f923054"
      },
      "outputs": [
        {
          "name": "stdout",
          "output_type": "stream",
          "text": [
            "a3a = \n"
          ]
        }
      ],
      "source": [
        "# Graded Answer\n",
        "# DO NOT change this cell in any way and do not make any other assignments to variable a3a\n",
        "print(f'a3a = {a3a}')\n"
      ]
    },
    {
      "cell_type": "markdown",
      "metadata": {
        "id": "4Td6CInDPZK_"
      },
      "source": [
        "#### Part 3B:  Set `a3b` to the perplexity for the sentence you provided in Part 3A.\n"
      ]
    },
    {
      "cell_type": "code",
      "execution_count": null,
      "metadata": {
        "id": "jVAm09Z6PZLA"
      },
      "outputs": [],
      "source": [
        "# Your answer here\n",
        "\n",
        "a3b = 0.0"
      ]
    },
    {
      "cell_type": "code",
      "execution_count": null,
      "metadata": {
        "id": "NPXm7ozlPZLA",
        "outputId": "39c831dc-1644-4906-89f8-da1f76743c4e"
      },
      "outputs": [
        {
          "name": "stdout",
          "output_type": "stream",
          "text": [
            "a3b = 0.0\n"
          ]
        }
      ],
      "source": [
        "# Graded Answer\n",
        "# DO NOT change this cell in any way and do not make any other assignments to variable a1 in this problem\n",
        "\n",
        "print(f'a3b = {a3b}')\n"
      ]
    },
    {
      "cell_type": "markdown",
      "metadata": {
        "id": "MLu8_PqgPZLA"
      },
      "source": [
        "#### Part 3C:  Describe in a few sentences what you observed with the different temperature settings (and try more if you wish!). Which produces the sentences with the best perplexity (you might want to take the average of all 10!).\n",
        "\n",
        "Your answer here:\n",
        "\n"
      ]
    },
    {
      "cell_type": "markdown",
      "metadata": {
        "id": "nVx9L8giPZLC"
      },
      "source": [
        "## Problem Four:  Beam Search\n",
        "\n",
        "For our final problem, we'll implement a common technique for searching for sentences with low perplexity.\n",
        "\n",
        "**Beam search** is a pragmatic middle ground between **greedy decoding** (pick the single best next word each step) and **exhaustive search** (try all sequences).\n",
        "\n",
        "![Screenshot 2025-10-04 at 12.12.48 PM.png](attachment:224d4777-a5b9-4360-9cc3-5651367faeb0.png)\n",
        "\n",
        "The basic idea is reasonably simple:\n",
        "\n",
        "Maintain a list of at most **B** incomplete sentences, sorted in **decreasing order of their ALP (best at the top)**; you'll need to calculate this during the sort, or perhaps store a triple\n",
        "> (list-of-tokens, sum-of-log-probs, ALP-so-far)\n",
        "\n",
        "where\n",
        "> ALP-so-far =sum-of-log-probs/(len(list-of-tokens)-1)\n",
        "\n",
        "**In detail:**\n",
        "\n",
        "Initialize a priority queue `PQ = [ ['<s>'],0.0] ]`\n",
        "\n",
        "1. In each loop:\n",
        "    - Generate **C** continuations of each of the partial sentences in the queue **PQ** (optional but useful: remove duplicates)\n",
        "    - Remove any completed sentences, calculate their perplexity and store them in a separate list `Finished`.\n",
        "    - Sort the list of remaining continuations and delete all but the best **B** candidates.\n",
        "    - Replace **PQ** with this list of new candidates.\n",
        "3. Repeat from step 1 until you get 10 finished sentences in `Finished` or simply iterate 100 times.  \n",
        "4. Sort the list `Finished` in increasing order of perplexity and print it out.\n",
        "\n",
        "  This preserves multiple promising continuations (unlike greedy), but avoids the combinatorial blow-up of exhaustive search. Using **log-probs** makes scoring stable; using a **length-normalized** score (ALP) prevents the search from favoring short fragments. Beam width (B) controls the trade-off: larger (B) explores more but costs more time and can still prune good paths too early. Continuation width (C) controls how widely you search possible continuations, and uses temperature.\n",
        "\n",
        "**ToDo:**\n",
        "\n",
        "- Implement beam search as described, using $B=C=5$.\n",
        "- Experiment with temperatures of 0.2, 1.0, and 5.0 as before.\n",
        "- Print out your finished sentences with perplexities.\n",
        "- Answer the graded questions."
      ]
    },
    {
      "cell_type": "code",
      "execution_count": null,
      "metadata": {
        "id": "Oti2SMAoPZLG"
      },
      "outputs": [],
      "source": [
        "# Your code here; add as many cells as you wish\n",
        "\n"
      ]
    },
    {
      "cell_type": "markdown",
      "metadata": {
        "id": "5bPeVcq_PZLI"
      },
      "source": [
        "### Graded Questions:\n",
        "\n",
        "#### Part 4A: In the next cell, set `a4a` to the sentence with the smallest perplexity generated by beam search. Use `print_sentence(..., do_print=False)`."
      ]
    },
    {
      "cell_type": "code",
      "execution_count": null,
      "metadata": {
        "id": "9HKipcyiPZLJ"
      },
      "outputs": [],
      "source": [
        "# Your answer here\n",
        "\n",
        "a4a = ''"
      ]
    },
    {
      "cell_type": "code",
      "execution_count": null,
      "metadata": {
        "id": "w7Un6klJPZLK",
        "outputId": "744a5ba8-b10c-4e8f-fd83-1ccbe7cceb36"
      },
      "outputs": [
        {
          "name": "stdout",
          "output_type": "stream",
          "text": [
            "a4a = \n"
          ]
        }
      ],
      "source": [
        "# Graded Answer\n",
        "# DO NOT change this cell in any way and do not make any other assignments to variable a3a\n",
        "print(f'a4a = {a4a}')\n"
      ]
    },
    {
      "cell_type": "markdown",
      "metadata": {
        "id": "QUfuuYmsPZLL"
      },
      "source": [
        "#### Part 4B:  Set `a4b` to the perplexity for the sentence you provided in Part 4A.\n"
      ]
    },
    {
      "cell_type": "code",
      "execution_count": null,
      "metadata": {
        "id": "uhFRjq1uPZLL"
      },
      "outputs": [],
      "source": [
        "# Your answer here\n",
        "\n",
        "a4b = ''"
      ]
    },
    {
      "cell_type": "code",
      "execution_count": null,
      "metadata": {
        "id": "kGsw3cvKPZLM",
        "outputId": "ef19a369-7d9f-4e7d-d45c-f008613e4439"
      },
      "outputs": [
        {
          "name": "stdout",
          "output_type": "stream",
          "text": [
            "a4b = \n"
          ]
        }
      ],
      "source": [
        "# Graded Answer\n",
        "# DO NOT change this cell in any way and do not make any other assignments to variable a4b in this problem\n",
        "\n",
        "print(f'a4b = {a4b}')\n"
      ]
    },
    {
      "cell_type": "markdown",
      "metadata": {
        "id": "UjJ71dANPZLM"
      },
      "source": [
        "#### Part 4C:  Describe in a few sentences what you observed with the different temperature settings (and try more if you wish!). Which produces the sentences with the best perplexity (you might want to take the average of all 5!).\n",
        "\n",
        "Your answer here:\n",
        "\n"
      ]
    },
    {
      "cell_type": "markdown",
      "metadata": {
        "id": "LBuHwmr6PZLM"
      },
      "source": [
        "## Appendix One: The Brown Corpus\n",
        "\n",
        "The **Brown Corpus of Standard American English** was compiled at **Brown University** by W. Nelson Francis and Henry Kučera in 1961. It was the **first electronic, balanced corpus of English** ever created and contains about **one million words** drawn from **500 written texts** published in the United States in 1961.\n",
        "\n",
        "At the time, this was groundbreaking: instead of studying isolated examples, linguists and computer scientists could analyze the **statistical properties of language** across many genres. The Brown Corpus became a **benchmark dataset** in early computational linguistics, psycholinguistics, and later in natural language processing.\n",
        "\n",
        "### Genres in the Brown Corpus\n",
        "\n",
        "The 500 texts were divided evenly across **15 categories**, each representing a different register or style of writing:\n",
        "\n",
        "* **Press**: reportage, editorials, reviews\n",
        "* **General prose**: popular lore, belles lettres, essays\n",
        "* **Fiction**: adventure, romance, science fiction, mystery, humor\n",
        "* **Learned writing**: academic and scientific publications\n",
        "* **Religious writing**: sermons, expository texts\n",
        "* **Skills and hobbies**: manuals, do-it-yourself, gardening, sports writing\n",
        "* **Government documents**: official reports, public affairs writing\n",
        "* **Miscellaneous**: popularized non-fiction, biography\n",
        "\n",
        "Each category contributes about 2,000 sentences (roughly 80,000 words), ensuring a **balanced sample** of contemporary written English.\n",
        "\n",
        "### Examples of Source Texts\n",
        "\n",
        "While the Brown Corpus does not preserve full books in sequence, the selections were drawn from published works of the time. Examples include:\n",
        "\n",
        "* **Fiction**: pulp magazines, detective novels, romance stories, humorous fiction.\n",
        "* **Press**: articles from major U.S. newspapers and magazines such as *Time* and *Newsweek*.\n",
        "* **Religion**: sermons, Bible commentary, religious essays.\n",
        "* **Academic**: journal articles in history, sociology, psychology, and linguistics.\n",
        "* **Skills and hobbies**: popular magazines like *Popular Mechanics* and *Field & Stream*.\n",
        "\n",
        "The corpus thus reflects a **snapshot of American English in 1961**: how it was written in popular culture, journalism, science, religion, and government.\n",
        "\n",
        "### Why It Matters\n",
        "\n",
        "* **Historical importance**: the first large corpus, setting the stage for all later corpus linguistics.\n",
        "* **Balanced design**: unlike modern web scrapes (e.g., Wikipedia), Brown was carefully curated to capture a **cross-section of genres**.\n",
        "* **Still used today**: it remains a teaching resource for exploring **word frequencies, n-grams, Zipf’s law, and stylistic differences across genres**.\n",
        "\n",
        "### Categories in the Brown Corpus  \n",
        "\n",
        "The Brown Corpus is divided into 15 genres, each with about 80,000 words (for a total of ~1 million). This balance makes it useful for studying stylistic and lexical variation across English.  \n",
        "\n",
        "| Code | Category              | Description / Examples                                  |\n",
        "|------|-----------------------|---------------------------------------------------------|\n",
        "| A    | Press: Reportage      | Straight news reporting; newspaper and magazine articles |\n",
        "| B    | Press: Editorial      | Opinion pieces and editorials from newspapers/magazines |\n",
        "| C    | Press: Reviews        | Reviews of books, plays, music, films                   |\n",
        "| D    | Religion              | Sermons, religious commentary, Bible studies            |\n",
        "| E    | Skills & Hobbies      | How-to manuals, sports, leisure, do-it-yourself         |\n",
        "| F    | Popular Lore          | Popular science, cultural essays, lore                  |\n",
        "| G    | Belles Lettres        | Literary essays, non-fiction with artistic style        |\n",
        "| H    | Miscellaneous         | Biographies, memoirs, other non-fiction                 |\n",
        "| J    | Learned               | Academic and scientific writing                         |\n",
        "| K    | General Fiction       | Short stories and novels, general fiction               |\n",
        "| L    | Mystery & Detective   | Detective and crime fiction                             |\n",
        "| M    | Science Fiction       | Science fiction stories and novels                      |\n",
        "| N    | Adventure & Western   | Adventure stories, Westerns                             |\n",
        "| P    | Romance               | Romantic fiction                                        |\n",
        "| R    | Humor                 | Humorous fiction and essays                             |\n",
        "\n",
        "Together these categories provide a **snapshot of American English in 1961**, from journalism and government reports to pulp fiction and academic writing.  \n"
      ]
    },
    {
      "cell_type": "code",
      "execution_count": null,
      "metadata": {
        "id": "whZ9hvItPZLM",
        "outputId": "20e3b596-a84f-4543-8c80-6317bef57d42"
      },
      "outputs": [
        {
          "name": "stdout",
          "output_type": "stream",
          "text": [
            "0.0\n",
            "-0.6931471805599453\n",
            "-1.0986122886681098\n",
            "-1.3862943611198906\n",
            "-4.605170185988091\n",
            "-23.025850929940457\n"
          ]
        }
      ],
      "source": [
        "for p in [1,1/2,1/3,1/4, 0.01, 1e-10]:\n",
        "          print(math.log(p))"
      ]
    },
    {
      "cell_type": "markdown",
      "metadata": {
        "id": "SYghpH_uPZLN"
      },
      "source": [
        "## Appendix Two: Using Log-Probabilities in N-Gram Models\n",
        "\n",
        "When working with **n-gram language models**, we calculate the probability of a sentence by multiplying the conditional probabilities of each word:\n",
        "\n",
        "$$\n",
        "P(w_1, w_2, \\dots, w_n) = \\prod_{i=1}^n P(w_i \\mid \\text{context})\n",
        "$$\n",
        "\n",
        "### Do we really need logs for the Brown Corpus?\n",
        "\n",
        "In the Brown Corpus, the **longest sentence has 182 tokens**. That’s not very long compared to modern corpora, so you might think multiplying probabilities directly is fine. For example:\n",
        "\n",
        "* If the average conditional probability were around $0.1$, the longest Brown sentence has probability about\n",
        "  $$(0.1)^{182} = 10^{-182},$$\n",
        "  which is still representable in double precision (smallest positive $\\approx 10^{-324}$).\n",
        "\n",
        "* But if the average probability were closer to $0.01$, then\n",
        "  $$(0.01)^{182} = 10^{-364},$$\n",
        "  which would **underflow to 0**.\n",
        "\n",
        "So in some cases you’d be safe, in others not.\n",
        "\n",
        "### Some Examples of Log Probabilities\n",
        "\n",
        "Since probabilities are always in the range $[0,1.0]$, log probabilities are in the range $[-\\infty,0.0]$. Here are\n",
        "some examples of log probabilities (we'll use natural logs, but the base really doesn't matter):\n",
        "\n",
        "    Probability         Log Probability\n",
        "      1.0                 0.0\n",
        "      1/2                -0.6931471805599453\n",
        "      1/3                -1.0986122886681098\n",
        "      1/4                -1.3862943611198906\n",
        "      0.01               -4.605170185988091\n",
        "      1e-10              -23.025850929940457\n",
        "      1e-1000            -2302.5850929940457\n",
        "\n",
        "(To put this in somewhat real terms, suppose you and a friend could both randomly choose an **atom** somewhere in the observable\n",
        "universe: the probability that you both choose the same atom is approximately 1e-80.)\n",
        "\n",
        "### Why we use log-probabilities anyway\n",
        "\n",
        "Even if underflow is not common in Brown sentences, there are three strong reasons to switch to log-space:\n",
        "\n",
        "1. **Smoothing produces tiny probabilities.** With add-one or Kneser–Ney smoothing, many n-grams have very small values, making underflow more likely.\n",
        "2. **Corpus-level calculations.** Perplexity is often computed over *all tokens* in the corpus. With Brown’s ~1M tokens, multiplying raw probabilities is completely impossible.\n",
        "3. **Consistency with NLP practice.** Modern language models (n-gram and neural alike) always work in log-space. Teaching it here ensures the method scales to larger datasets like Shakespeare, WikiText, or web-scale corpora.\n",
        "\n",
        "### The log-space trick\n",
        "\n",
        "Recall how computing in log-space works:\n",
        "\n",
        "- Convert your numbers to logs\n",
        "- Instead of multiplying, add  \n",
        "- Instead of exponentiation, multiply\n",
        "- If you need to sort, or compare using $\\lt$ or $\\le$, just do it in log-space (since it is monotonic, i.e., preserves order)\n",
        "- Convert back to normal if you want to print it out in human-readable form as a metric or use it with code that expects normal probabilities (e.g., softmax, or sampling).\n",
        "\n",
        "Thus, instead of multiplying probabilities, we sum log probabilities:\n",
        "\n",
        "$$\n",
        "\\log P(w_1, w_2, \\dots, w_n) = \\sum_{i=1}^n \\log P(w_i \\mid \\text{context})\n",
        "$$\n",
        "\n",
        "This prevents underflow, keeps values in a manageable numeric range, and makes computation easier.\n",
        "\n",
        "* **Ranking:** For decoding or beam search, you can use log-probabilities directly, since $\\log$ is monotonic. No conversion back is needed.\n",
        "* **Perplexity:**\n",
        "\n",
        "$$\n",
        "\\text{PP} = \\exp\\left(-\\tfrac{1}{n} \\sum_{i=1}^n \\log P(w_i \\mid \\text{context})\\right)\n",
        "$$\n",
        "\n",
        "Here the exponential is applied only at the end.\n",
        "\n",
        "* **Sampling:** To draw the next word, convert log-probabilities back with `exp()` to normalize.\n",
        "\n",
        "---\n",
        "\n",
        "✅ **TL;DR Summary:** In the Brown Corpus, you *might* get away with raw probabilities for single sentences, but log-space is essential once you apply smoothing, compute perplexity over the whole corpus, or move to larger datasets. It’s also the standard method in NLP, so it’s best to learn it now.\n",
        "\n"
      ]
    }
  ],
  "metadata": {
    "kernelspec": {
      "display_name": "Python 3 (ipykernel)",
      "language": "python",
      "name": "python3"
    },
    "language_info": {
      "codemirror_mode": {
        "name": "ipython",
        "version": 3
      },
      "file_extension": ".py",
      "mimetype": "text/x-python",
      "name": "python",
      "nbconvert_exporter": "python",
      "pygments_lexer": "ipython3",
      "version": "3.10.18"
    },
    "colab": {
      "provenance": []
    }
  },
  "nbformat": 4,
  "nbformat_minor": 0
}